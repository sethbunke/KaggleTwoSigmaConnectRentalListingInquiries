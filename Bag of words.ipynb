{
 "cells": [
  {
   "cell_type": "code",
   "execution_count": 2,
   "metadata": {
    "collapsed": false
   },
   "outputs": [
    {
     "name": "stdout",
     "output_type": "stream",
     "text": [
      "Counter({'the': 2, 'jumps': 1, 'dog': 1, 'brown': 1, 'over': 1, 'quick': 1, 'fox': 1, 'lazy': 1})\n"
     ]
    }
   ],
   "source": [
    "from collections import Counter\n",
    "\n",
    "def bag_of_words(text):\n",
    "    return Counter(text.split())\n",
    "    # TODO: Implement bag of words\n",
    "#     total_counts = Counter()\n",
    "#     total_counts.update(text.split(' '))\n",
    "#     return total_counts\n",
    "\n",
    "test_text = 'the quick brown fox jumps over the lazy dog'\n",
    "\n",
    "print(bag_of_words(test_text))"
   ]
  },
  {
   "cell_type": "code",
   "execution_count": null,
   "metadata": {
    "collapsed": true
   },
   "outputs": [],
   "source": []
  }
 ],
 "metadata": {
  "anaconda-cloud": {},
  "kernelspec": {
   "display_name": "Python [conda env:tensorflow1]",
   "language": "python",
   "name": "conda-env-tensorflow1-py"
  },
  "language_info": {
   "codemirror_mode": {
    "name": "ipython",
    "version": 3
   },
   "file_extension": ".py",
   "mimetype": "text/x-python",
   "name": "python",
   "nbconvert_exporter": "python",
   "pygments_lexer": "ipython3",
   "version": "3.5.2"
  }
 },
 "nbformat": 4,
 "nbformat_minor": 1
}
